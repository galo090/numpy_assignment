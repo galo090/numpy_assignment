{
 "cells": [
  {
   "cell_type": "markdown",
   "id": "ba6701cc",
   "metadata": {},
   "source": [
    "#### Using a NumPy function, how would you create a one-dimensional NumPy array of the numbers from 10 to 100, counting by 10?\n",
    "\n",
    "##### 2) How could you create a two-dimensional, 3 x 4 array (three arrays of four elements each) with random numbers from 1 to 10?\n",
    "\n",
    "##### 3) Create a 4X2 integer array and Prints its attributes.\n",
    "\n",
    "##### 4) Create a result array by adding the following two NumPy arrays. Next, modify the result array by calculating the square of each element. \n",
    "\n",
    "##### 5) Create a result array by adding the following two NumPy arrays. Next, modify the result array by calculating the square of each element:\n",
    "\n",
    "#### arrayOne = numpy.array([[5, 6, 9], [21 ,18, 27]])\n",
    "##### arrayTwo = numpy.array([[15 ,33, 24], [4 ,7, 1]])\n",
    "\n",
    "###### 6) Compute the mean, median, minimum, and maximum value of the result array from question 5."
   ]
  },
  {
   "cell_type": "code",
   "execution_count": 2,
   "id": "e985608d",
   "metadata": {},
   "outputs": [],
   "source": [
    "import numpy as np"
   ]
  },
  {
   "cell_type": "code",
   "execution_count": 12,
   "id": "47581f84",
   "metadata": {},
   "outputs": [
    {
     "name": "stdout",
     "output_type": "stream",
     "text": [
      "[10 11 12 13 14 15 16 17 18 19 20 21 22 23 24 25 26 27 28 29 30 31 32 33\n",
      " 34 35 36 37 38 39 40 41 42 43 44 45 46 47 48 49 50 51 52 53 54 55 56 57\n",
      " 58 59 60 61 62 63 64 65 66 67 68 69 70 71 72 73 74 75 76 77 78 79 80 81\n",
      " 82 83 84 85 86 87 88 89 90 91 92 93 94 95 96 97 98 99]\n"
     ]
    }
   ],
   "source": [
    "A = np.arange(10,100)\n",
    "print(A)"
   ]
  },
  {
   "cell_type": "code",
   "execution_count": 15,
   "id": "80f3cc74",
   "metadata": {},
   "outputs": [
    {
     "data": {
      "text/plain": [
       "array([[ 5,  3,  2,  2],\n",
       "       [10,  2,  8,  6],\n",
       "       [10,  9,  3,  6]], dtype=int32)"
      ]
     },
     "execution_count": 15,
     "metadata": {},
     "output_type": "execute_result"
    }
   ],
   "source": [
    "x2 = np.random.randint(1,11, size=(3,4))\n",
    "x2"
   ]
  },
  {
   "cell_type": "code",
   "execution_count": null,
   "id": "222973cb",
   "metadata": {},
   "outputs": [
    {
     "name": "stdout",
     "output_type": "stream",
     "text": [
      "Array:\n",
      "[[1 2]\n",
      " [3 4]\n",
      " [5 6]\n",
      " [7 8]]\n"
     ]
    }
   ],
   "source": [
    "A1 = np.array([[1, 2], [3, 4], [5, 6], [7, 8]])\n",
    "\n",
    "print(A1)"
   ]
  },
  {
   "cell_type": "code",
   "execution_count": 23,
   "id": "b6ac0538",
   "metadata": {},
   "outputs": [
    {
     "data": {
      "text/plain": [
       "array([[1, 4],\n",
       "       [9, 9]])"
      ]
     },
     "execution_count": 23,
     "metadata": {},
     "output_type": "execute_result"
    }
   ],
   "source": [
    "arr1 = np.array([[0, 3], [5, 5]])\n",
    "arr2 = np.array([[1, 1], [4, 4]])\n",
    "arr3 = arr1 + arr2\n",
    "arr3"
   ]
  },
  {
   "cell_type": "code",
   "execution_count": null,
   "id": "2662536e",
   "metadata": {},
   "outputs": [
    {
     "data": {
      "text/plain": [
       "array([[ 1, 16],\n",
       "       [81, 81]])"
      ]
     },
     "execution_count": 24,
     "metadata": {},
     "output_type": "execute_result"
    }
   ],
   "source": [
    "4) #square\n",
    "arr3 ** 2"
   ]
  },
  {
   "cell_type": "code",
   "execution_count": 29,
   "id": "ac8d9466",
   "metadata": {},
   "outputs": [
    {
     "data": {
      "text/plain": [
       "array([[20, 39, 33],\n",
       "       [25, 25, 28]])"
      ]
     },
     "execution_count": 29,
     "metadata": {},
     "output_type": "execute_result"
    }
   ],
   "source": [
    "#5)\n",
    "X3 = np.array([[5, 6, 9], [21 ,18, 27]])\n",
    "X4 = np.array([[15 ,33, 24], [4 ,7, 1]])\n",
    "X5 = X4 + X3\n",
    "X5"
   ]
  },
  {
   "cell_type": "code",
   "execution_count": 33,
   "id": "5431193d",
   "metadata": {},
   "outputs": [
    {
     "data": {
      "text/plain": [
       "array([[ 400, 1521, 1089],\n",
       "       [ 625,  625,  784]])"
      ]
     },
     "execution_count": 33,
     "metadata": {},
     "output_type": "execute_result"
    }
   ],
   "source": [
    "#square of the result\n",
    "X6 = X5 **2\n",
    "X6"
   ]
  },
  {
   "cell_type": "code",
   "execution_count": 36,
   "id": "3d845b3d",
   "metadata": {},
   "outputs": [
    {
     "name": "stdout",
     "output_type": "stream",
     "text": [
      "Mean: 840.6666666666666\n",
      "Median: 704.5\n",
      "Minimum: 400\n",
      "Maximum: 1521\n"
     ]
    }
   ],
   "source": [
    "# printing the mean, median, minimum, maximum\n",
    "print(\"Mean:\", np.mean(X6))\n",
    "print(\"Median:\",np.median(X6))\n",
    "print('Minimum:',np.min(X6))\n",
    "print('Maximum:',np.max(X6))"
   ]
  }
 ],
 "metadata": {
  "kernelspec": {
   "display_name": "Python 3",
   "language": "python",
   "name": "python3"
  },
  "language_info": {
   "codemirror_mode": {
    "name": "ipython",
    "version": 3
   },
   "file_extension": ".py",
   "mimetype": "text/x-python",
   "name": "python",
   "nbconvert_exporter": "python",
   "pygments_lexer": "ipython3",
   "version": "3.13.3"
  }
 },
 "nbformat": 4,
 "nbformat_minor": 5
}
